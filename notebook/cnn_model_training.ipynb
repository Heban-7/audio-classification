{
 "cells": [
  {
   "cell_type": "markdown",
   "id": "46225a32",
   "metadata": {},
   "source": [
    "# CNN Model Training"
   ]
  },
  {
   "cell_type": "code",
   "execution_count": null,
   "id": "0e14103c",
   "metadata": {},
   "outputs": [
    {
     "ename": "ModuleNotFoundError",
     "evalue": "No module named 'scripts.resnet_model.py'; 'scripts.resnet_model' is not a package",
     "output_type": "error",
     "traceback": [
      "\u001b[31m---------------------------------------------------------------------------\u001b[39m",
      "\u001b[31mModuleNotFoundError\u001b[39m                       Traceback (most recent call last)",
      "\u001b[36mCell\u001b[39m\u001b[36m \u001b[39m\u001b[32mIn[1]\u001b[39m\u001b[32m, line 7\u001b[39m\n\u001b[32m      5\u001b[39m \u001b[38;5;66;03m# import modules\u001b[39;00m\n\u001b[32m      6\u001b[39m \u001b[38;5;28;01mfrom\u001b[39;00m\u001b[38;5;250m \u001b[39m\u001b[34;01mscripts\u001b[39;00m\u001b[34;01m.\u001b[39;00m\u001b[34;01mcnn_model\u001b[39;00m\u001b[38;5;250m \u001b[39m\u001b[38;5;28;01mimport\u001b[39;00m *\n\u001b[32m----> \u001b[39m\u001b[32m7\u001b[39m \u001b[38;5;28;01mfrom\u001b[39;00m\u001b[38;5;250m \u001b[39m\u001b[34;01mscripts\u001b[39;00m\u001b[34;01m.\u001b[39;00m\u001b[34;01mresnet_model\u001b[39;00m\u001b[34;01m.\u001b[39;00m\u001b[34;01mpy\u001b[39;00m\u001b[38;5;250m \u001b[39m\u001b[38;5;28;01mimport\u001b[39;00m *\n",
      "\u001b[31mModuleNotFoundError\u001b[39m: No module named 'scripts.resnet_model.py'; 'scripts.resnet_model' is not a package"
     ]
    }
   ],
   "source": [
    "# get working directory\n",
    "import os, sys\n",
    "sys.path.append(os.path.abspath('..'))\n",
    "\n",
    "# import modules\n",
    "from scripts.cnn_model import *\n",
    "from scripts.resnet18_model.py import *"
   ]
  },
  {
   "cell_type": "code",
   "execution_count": null,
   "id": "b2356c82",
   "metadata": {},
   "outputs": [],
   "source": [
    "X_train, y_train, X_val, y_val, X_test, y_test = load_data()\n",
    "train_loader, val_loader, test_loader = create_dataloaders(X_train, y_train, X_val, y_val, X_test, y_test)"
   ]
  },
  {
   "cell_type": "code",
   "execution_count": null,
   "id": "3ebff514",
   "metadata": {},
   "outputs": [],
   "source": [
    "# initiate model\n",
    "model = MusicGenreCNN().to(device)\n",
    "criterion = nn.CrossEntropyLoss()\n",
    "optimizer = torch.optim.Adam(model.parameters(), lr=0.001)"
   ]
  },
  {
   "cell_type": "code",
   "execution_count": null,
   "id": "9055f99e",
   "metadata": {},
   "outputs": [
    {
     "name": "stdout",
     "output_type": "stream",
     "text": [
      "Epoch 1/50, Train Loss: 2.1616, Train Acc: 0.1883, Val Loss: 1.8229, Val Acc: 0.3403\n",
      "Epoch 2/50, Train Loss: 1.7178, Train Acc: 0.3689, Val Loss: 1.4754, Val Acc: 0.4565\n",
      "Epoch 3/50, Train Loss: 1.4969, Train Acc: 0.4495, Val Loss: 1.3283, Val Acc: 0.5140\n",
      "Epoch 4/50, Train Loss: 1.3509, Train Acc: 0.5090, Val Loss: 1.2876, Val Acc: 0.5621\n",
      "Epoch 5/50, Train Loss: 1.2458, Train Acc: 0.5564, Val Loss: 1.0980, Val Acc: 0.6351\n",
      "Epoch 6/50, Train Loss: 1.1685, Train Acc: 0.5841, Val Loss: 1.0380, Val Acc: 0.6672\n",
      "Epoch 7/50, Train Loss: 1.0958, Train Acc: 0.6116, Val Loss: 0.9752, Val Acc: 0.6837\n",
      "Epoch 8/50, Train Loss: 1.0610, Train Acc: 0.6276, Val Loss: 0.9620, Val Acc: 0.6792\n",
      "Epoch 9/50, Train Loss: 1.0119, Train Acc: 0.6441, Val Loss: 0.9355, Val Acc: 0.6837\n",
      "Epoch 10/50, Train Loss: 0.9707, Train Acc: 0.6639, Val Loss: 0.8938, Val Acc: 0.7067\n",
      "Epoch 11/50, Train Loss: 0.9478, Train Acc: 0.6753, Val Loss: 0.8075, Val Acc: 0.7503\n",
      "Epoch 12/50, Train Loss: 0.9014, Train Acc: 0.6884, Val Loss: 0.8025, Val Acc: 0.7578\n",
      "Epoch 13/50, Train Loss: 0.8818, Train Acc: 0.7011, Val Loss: 0.7734, Val Acc: 0.7503\n",
      "Epoch 14/50, Train Loss: 0.8488, Train Acc: 0.7033, Val Loss: 0.7430, Val Acc: 0.7633\n",
      "Epoch 15/50, Train Loss: 0.8197, Train Acc: 0.7203, Val Loss: 0.7508, Val Acc: 0.7603\n"
     ]
    }
   ],
   "source": [
    "# train and evaluate model\n",
    "train_losses, val_losses, train_accs, val_accs = train_model(model, train_loader, val_loader, criterion, optimizer)\n",
    "preds, labels = evaluate_model(model, test_loader, criterion)"
   ]
  },
  {
   "cell_type": "code",
   "execution_count": null,
   "id": "18bb9f56",
   "metadata": {},
   "outputs": [],
   "source": [
    "plot_confusion_matrix(labels, preds, genres)"
   ]
  },
  {
   "cell_type": "code",
   "execution_count": null,
   "id": "d7703dfa",
   "metadata": {},
   "outputs": [],
   "source": [
    "plot_training_curves(train_losses, val_losses, train_accs, val_accs)"
   ]
  },
  {
   "cell_type": "code",
   "execution_count": null,
   "id": "2675e5e9",
   "metadata": {},
   "outputs": [],
   "source": [
    "save_model(model)"
   ]
  },
  {
   "cell_type": "markdown",
   "id": "afb54623",
   "metadata": {},
   "source": [
    "## Resnet Model"
   ]
  },
  {
   "cell_type": "code",
   "execution_count": null,
   "id": "2d9201a3",
   "metadata": {},
   "outputs": [],
   "source": [
    "train_loader_resnet, val_loader_resnet, test_loader_resnet = load_data_resnet()"
   ]
  },
  {
   "cell_type": "code",
   "execution_count": null,
   "id": "a379aecb",
   "metadata": {},
   "outputs": [],
   "source": [
    "model_resnet = create_model_resnet(num_classes=len(genres))"
   ]
  },
  {
   "cell_type": "code",
   "execution_count": null,
   "id": "f2e8355a",
   "metadata": {},
   "outputs": [],
   "source": [
    "train_losses_resnet, val_losses_resnet, train_accs_resnet, val_accs_resnet = train_model_resnet(model_resnet, train_loader_resnet, val_loader_resnet)"
   ]
  },
  {
   "cell_type": "code",
   "execution_count": null,
   "id": "2484bdda",
   "metadata": {},
   "outputs": [],
   "source": [
    "torch.save(model_resnet.state_dict(), '../models/music_genre_resnet18.pth')\n",
    "print('Model saved as music_genre_resnet18.pth')\n"
   ]
  },
  {
   "cell_type": "code",
   "execution_count": null,
   "id": "13abd394",
   "metadata": {},
   "outputs": [],
   "source": [
    "evaluate_model_metrics_resnet(model_resnet, test_loader_resnet)"
   ]
  },
  {
   "cell_type": "code",
   "execution_count": null,
   "id": "a76908c6",
   "metadata": {},
   "outputs": [],
   "source": [
    "plot_training_curves_resnet(train_losses_resnet, val_losses_resnet, train_accs_resnet, val_accs_resnet)"
   ]
  }
 ],
 "metadata": {
  "kernelspec": {
   "display_name": ".venv",
   "language": "python",
   "name": "python3"
  },
  "language_info": {
   "codemirror_mode": {
    "name": "ipython",
    "version": 3
   },
   "file_extension": ".py",
   "mimetype": "text/x-python",
   "name": "python",
   "nbconvert_exporter": "python",
   "pygments_lexer": "ipython3",
   "version": "3.11.9"
  }
 },
 "nbformat": 4,
 "nbformat_minor": 5
}
